{
 "cells": [
  {
   "cell_type": "code",
   "execution_count": 4,
   "id": "aa432400",
   "metadata": {},
   "outputs": [],
   "source": [
    "import os\n",
    "import pickle\n",
    "\n",
    "vowels=['अ','आ','इ','ई','उ','ऊ','ऋ','ए','ऐ','ओ','औ','अं','अः']\n",
    "\n",
    "consonent=['क','ख','ग','घ','ङ','च','छ','ज','झ','ञ','ट','ठ','ड','ढ','ण','त','थ','द','ध',\n",
    "           'न','प','फ','ब','भ','म','य','र','ल','व','श','ष','स','ह','क्ष','त्र','ज्ञ']\n",
    "matra_mapping={'ा':'आ','ि':'इ','ी':'ई','ु':'उ','ू':'ऊ','े':'ए','ै':'ऐ','ो':'ओ','ौ':'औ','ृ':'ऋ',\n",
    "               'ॄ':'ऋऋ','ॉ':'ओ','ॅ':'ए','ं':'अं','ँ':'अं','ः':'अः','ॆ':'ए','ॊ':'ओ','्र':' ','्':'अ'}\n",
    "\n",
    "digits=['०','१','२','३','४','५','६','७','८','९','1','2','3','4','5','6','7','8','9','0']\n",
    "\n",
    "matra=['ा','ि','ी','ु','ू','ृ','ॄ','ॅ','ॆ','े','ै','ॉ','ॊ','ो','ौ','्']\n",
    "punctuations=['।',':',';',',','.','\\'','\\\\','/','-','‘','’','(',')','\"','|']\n"
   ]
  },
  {
   "cell_type": "code",
   "execution_count": 5,
   "id": "d79a55ed",
   "metadata": {},
   "outputs": [],
   "source": [
    "def split(shabd):\n",
    "    shabd+=\" \"\n",
    "    ans=[]\n",
    "    i=0\n",
    "    while(i< len(shabd)-1):\n",
    "        string=\"\"\n",
    "        if(shabd[i] in vowels):\n",
    "            string+= shabd[i]\n",
    "            ans.append(string)\n",
    "        elif(shabd[i] in consonent and shabd[i+1] in matra):\n",
    "            string+= shabd[i]+'्'+matra_mapping[shabd[i+1]]\n",
    "            ans.append(string)\n",
    "        elif(shabd[i] in consonent and shabd[i+1] in vowels+[' ']+consonent):\n",
    "            string+= shabd[i]+ '्' + 'अ'\n",
    "            ans.append(string)\n",
    "        i+=1\n",
    "    return ans\n",
    "        \n",
    "                                               \n",
    "    \n",
    "    "
   ]
  },
  {
   "cell_type": "code",
   "execution_count": null,
   "id": "55309629",
   "metadata": {},
   "outputs": [],
   "source": []
  },
  {
   "cell_type": "code",
   "execution_count": 44,
   "id": "c10aea03",
   "metadata": {},
   "outputs": [],
   "source": [
    "syllable_unigram={}\n",
    "f=1\n",
    "        \n",
    "for i in os.listdir(\"data\"):\n",
    "    file = open('data/'+ str(i), encoding ='utf-8',errors='ignore')\n",
    "    for line in file:\n",
    "        for k in punctuations+ digits:\n",
    "            line=line.replace(k,\" \")\n",
    "        for i in line.split():\n",
    "            if len(i)!=0:\n",
    "                shabd= split(i)\n",
    "                if(len(shabd)==0):\n",
    "                    continue\n",
    "                for l in shabd:\n",
    "                    if l in syllable_unigram.keys():\n",
    "                        syllable_unigram[l]+=1\n",
    "                    else:\n",
    "                        syllable_unigram[l]=1\n",
    "    file.close()\n",
    "    f+=1\n",
    "    \n",
    "        "
   ]
  },
  {
   "cell_type": "code",
   "execution_count": 52,
   "id": "cfca91af",
   "metadata": {},
   "outputs": [],
   "source": [
    "uni_sy=sorted(syllable_unigram.items(), key=lambda x: x[1], reverse=True)[:100] \n",
    "uni_sy=[i[0] for i in uni_sy]\n",
    "uni_sy\n",
    "\n",
    "with open('syllable_unigram.pkl','wb') as f:\n",
    "    pickle.dump(uni_sy, f)"
   ]
  },
  {
   "cell_type": "markdown",
   "id": "18056ca0",
   "metadata": {},
   "source": [
    "## Bigram"
   ]
  },
  {
   "cell_type": "code",
   "execution_count": 45,
   "id": "044c4c3d",
   "metadata": {},
   "outputs": [],
   "source": [
    "\n",
    "def bigram_split(w):\n",
    "    s= w[0]\n",
    "    ans=[]\n",
    "    for i in range(1,len(w)):\n",
    "        s+=w[i]\n",
    "        ans.append(s)\n",
    "        s=\"\"+w[i]\n",
    "    return ans\n",
    "\n",
    "syllable_bigram={}\n",
    "f=1\n",
    "        \n",
    "for i in os.listdir(\"data\"):\n",
    "    file = open('data/'+ str(i), encoding ='utf-8',errors='ignore')\n",
    "    for line in file:\n",
    "        for k in punctuations+ digits:\n",
    "            line=line.replace(k,\" \")\n",
    "        for i in line.split():\n",
    "            if len(i)!=0:\n",
    "                shabd= split(i)\n",
    "                if(len(shabd)<2):\n",
    "                    continue\n",
    "                shabd= bigram_split(shabd)\n",
    "                if(len(shabd)==0):\n",
    "                    continue\n",
    "                for l in shabd:\n",
    "                    if l in syllable_bigram.keys():\n",
    "                        syllable_bigram[l]+=1\n",
    "                    else:\n",
    "                        syllable_bigram[l]=1\n",
    "    file.close()\n",
    "    f+=1\n",
    "    \n",
    "        "
   ]
  },
  {
   "cell_type": "code",
   "execution_count": 58,
   "id": "f33703cf",
   "metadata": {},
   "outputs": [
    {
     "name": "stdout",
     "output_type": "stream",
     "text": [
      "['प्अर्अ', 'क्अर्अ', 'और्अ', 'इस्अ', 'क्आर्अ', 'त्अर्अ', 'एक्अ', 'उन्अ', 'ल्इए', 'न्अह्ई', 'अप्अ', 'द्अर्अ', 'स्अर्अ', 'क्इय्आ', 'र्अन्ए', 'क्अह्आ', 'व्अर्अ', 'स्अम्अ', 'ह्ओन्ए', 'य्अह्अ', 'ग्अय्आ', 'र्अण्अ', 'स्अक्अ', 'आप्अ', 'द्एश्अ', 'र्अत्अ', 'ट्अर्अ', 'र्अक्आ', 'ब्आद्अ', 'स्आथ्अ', 'उस्अ', 'स्अक्ए', 'र्अह्अ', 'य्अक्अ', 'र्आज्अ', 'क्अष्अ', 'त्अक्अ', 'व्आर्अ', 'र्अह्ए', 'प्अह्अ', 'ग्अर्अ', 'त्अर्ई', 'प्अन्ए', 'स्अत्अ', 'र्अक्अ', 'ज्अन्अ', 'भ्आर्अ', 'इन्अ', 'र्अम्अ', 'म्आन्अ', 'द्इय्आ', 'श्अन्अ', 'ह्अर्अ', 'ब्अर्अ', 'र्अह्आ', 'ह्उए', 'ह्अम्अ', 'न्अह्ओ', 'र्अह्ई', 'प्अर्इ', 'प्अत्अ', 'प्अन्ई', 'क्इन्अ', 'ब्अत्आ', 'म्आर्अ', 'ज्इस्अ', 'ब्अन्आ', 'र्अय्अ', 'स्अट्अ', 'ग्अई', 'र्अत्इ', 'अध्इ', 'ल्एक्इ', 'स्अथ्आ', 'व्अह्अ', 'म्इल्अ', 'ज्अब्अ', 'ल्अग्आ', 'र्अस्अ', 'र्अव्अ', 'क्अत्आ', 'प्अर्आ', 'क्अर्ए', 'र्अत्ई', 'क्अत्अ', 'आई', 'क्उछ्अ', 'प्ऊर्अ', 'र्अव्आ', 'ह्अत्अ', 'र्अट्अ', 'ह्अल्ए', 'य्अर्अ', 'ज्आए', 'क्अस्अ', 'ल्इस्अ', 'क्आर्ई', 'द्अव्आ', 'अब्अ', 'र्अत्ए']\n"
     ]
    }
   ],
   "source": [
    "sy_bi=sorted(syllable_bigram.items(), key=lambda x: x[1], reverse=True)[:100] \n",
    "sy_bi=[i[0] for i in sy_bi]\n",
    "print(sy_bi)\n",
    "\n",
    "with open('syllable_bigram.pkl','wb') as f:\n",
    "    pickle.dump(sy_bi, f)"
   ]
  },
  {
   "cell_type": "markdown",
   "id": "8bc53f26",
   "metadata": {},
   "source": [
    "## Trigram"
   ]
  },
  {
   "cell_type": "code",
   "execution_count": 47,
   "id": "06df275b",
   "metadata": {},
   "outputs": [],
   "source": [
    "\n",
    "def trigram_split(w):\n",
    "    s= w[0]+w[1]\n",
    "    ans=[]\n",
    "    for i in range(2,len(w)):\n",
    "        s+=w[i]\n",
    "        ans.append(s)\n",
    "        s=\"\"+w[i-1]+w[i]\n",
    "    return ans\n",
    "\n",
    "syllable_trigram={}\n",
    "f=1\n",
    "        \n",
    "for i in os.listdir(\"data\"):\n",
    "    file = open('data/'+ str(i), encoding ='utf-8',errors='ignore')\n",
    "    for line in file:\n",
    "        for k in punctuations+ digits:\n",
    "            line=line.replace(k,\" \")\n",
    "        for i in line.split():\n",
    "            if len(i)!=0:\n",
    "                shabd= split(i)\n",
    "                if(len(shabd)<3):\n",
    "                    continue\n",
    "                shabd= trigram_split(shabd)\n",
    "                if(len(shabd)==0):\n",
    "                    continue\n",
    "                for l in shabd:\n",
    "                    if l in syllable_trigram.keys():\n",
    "                        syllable_trigram[l]+=1\n",
    "                    else:\n",
    "                        syllable_trigram[l]=1\n",
    "    file.close()\n",
    "    f+=1\n",
    "    \n",
    "        "
   ]
  },
  {
   "cell_type": "code",
   "execution_count": 56,
   "id": "d72979d1",
   "metadata": {},
   "outputs": [],
   "source": [
    "tri_sy=sorted(syllable_trigram.items(), key=lambda x: x[1], reverse=True)[:100] \n",
    "tri_sy=[i[0] for i in tri_sy]\n",
    "tri_sy\n",
    "\n",
    "\n",
    "with open('syllable_trigram.pkl','wb') as f:\n",
    "    pickle.dump(tri_sy, f)"
   ]
  },
  {
   "cell_type": "code",
   "execution_count": 57,
   "id": "d98ef308",
   "metadata": {},
   "outputs": [],
   "source": [
    "with open(\"syllables_unigrams.txt\", 'w',encoding=\"utf-8\") as output:\n",
    "    for row in uni_sy:\n",
    "        output.write(row + '\\n')\n",
    "        \n",
    "with open(\"syllables_bigrams.txt\", 'w',encoding=\"utf-8\") as output:\n",
    "    for row in sy_bi:\n",
    "        output.write(row + '\\n')\n",
    "        \n",
    "with open(\"syllables_trigrams.txt\", 'w',encoding=\"utf-8\") as output:\n",
    "    for row in tri_sy:\n",
    "        output.write(row + '\\n')"
   ]
  },
  {
   "cell_type": "code",
   "execution_count": null,
   "id": "c4acd3cf",
   "metadata": {},
   "outputs": [],
   "source": []
  }
 ],
 "metadata": {
  "kernelspec": {
   "display_name": "Python 3",
   "language": "python",
   "name": "python3"
  },
  "language_info": {
   "codemirror_mode": {
    "name": "ipython",
    "version": 3
   },
   "file_extension": ".py",
   "mimetype": "text/x-python",
   "name": "python",
   "nbconvert_exporter": "python",
   "pygments_lexer": "ipython3",
   "version": "3.8.8"
  }
 },
 "nbformat": 4,
 "nbformat_minor": 5
}
