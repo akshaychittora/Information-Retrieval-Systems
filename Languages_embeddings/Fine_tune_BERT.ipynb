{
 "cells": [
  {
   "cell_type": "code",
   "execution_count": 1,
   "id": "929c8acd",
   "metadata": {},
   "outputs": [],
   "source": [
    "import numpy as np\n",
    "import re\n",
    "import pandas as pd"
   ]
  },
  {
   "cell_type": "code",
   "execution_count": 3,
   "id": "2bd0dfaf",
   "metadata": {},
   "outputs": [],
   "source": [
    "data_f = \"hi_train.conll\"\n",
    "data = open(data_f,encoding = \"utf8\",errors= \"ignore\")\n",
    "lines= data.readlines()"
   ]
  },
  {
   "cell_type": "code",
   "execution_count": 6,
   "id": "aa445558",
   "metadata": {},
   "outputs": [
    {
     "data": {
      "text/plain": [
       "['# id fb77da5d-c4e6-4545-ac07-600a7ff04920\\tdomain=train\\n',\n",
       " 'जियोर्जियोन _ _ O\\n',\n",
       " '०१९। _ _ O\\n',\n",
       " 'जेपीजी _ _ O\\n',\n",
       " '| _ _ O\\n',\n",
       " 'जियोर्जियोन _ _ O\\n',\n",
       " 'आंधी _ _ B-CW\\n',\n",
       " ', _ _ O\\n',\n",
       " '८२ _ _ O\\n',\n",
       " '× _ _ O\\n',\n",
       " '७३ _ _ O\\n',\n",
       " 'सेमी _ _ O\\n',\n",
       " '\\n',\n",
       " '# id cdfbbb76-87a6-49d3-806e-9587d7c896f0\\tdomain=train\\n',\n",
       " 'इस _ _ O\\n',\n",
       " 'क्षेत्र _ _ O\\n',\n",
       " 'का _ _ O\\n',\n",
       " 'सबसे _ _ O\\n',\n",
       " 'प्रसिद्ध _ _ O\\n',\n",
       " 'व्यंजन _ _ O\\n',\n",
       " 'बिरिया _ _ B-PROD\\n',\n",
       " 'है, _ _ O\\n',\n",
       " 'जो _ _ O\\n',\n",
       " 'चीलों _ _ O\\n',\n",
       " 'और _ _ O\\n',\n",
       " 'मसालों _ _ O\\n',\n",
       " 'के _ _ O\\n',\n",
       " 'साथ _ _ O\\n',\n",
       " 'बकरी, _ _ O\\n',\n",
       " 'बीफ, _ _ O\\n',\n",
       " 'मटन _ _ O\\n',\n",
       " 'या _ _ O\\n',\n",
       " 'पोर्क _ _ O\\n',\n",
       " 'का _ _ O\\n',\n",
       " 'एक _ _ O\\n',\n",
       " 'स्टू _ _ O\\n',\n",
       " 'है। _ _ O\\n',\n",
       " '\\n',\n",
       " '# id 0004b410-c6be-41f2-b785-b0421fb51d88\\tdomain=train\\n',\n",
       " 'राजनीतिक _ _ O\\n']"
      ]
     },
     "execution_count": 6,
     "metadata": {},
     "output_type": "execute_result"
    }
   ],
   "source": [
    "lines[:40]"
   ]
  },
  {
   "cell_type": "code",
   "execution_count": 20,
   "id": "62dcdb0f",
   "metadata": {},
   "outputs": [],
   "source": [
    "keys=[]\n",
    "values=[]\n",
    "x = ''\n",
    "y = ''\n",
    "for i in lines:\n",
    "    \n",
    "    if(i[0]=='#'):\n",
    "        x = ''\n",
    "        y = ''\n",
    "        continue\n",
    "    i= i.split(' _ _ ')\n",
    "    #print(i)\n",
    "    if(i[0]=='\\n'):\n",
    "        keys.append(x)\n",
    "        values.append(y)\n",
    "        continue\n",
    "    \n",
    "    i[0] = re.sub(\",\",\"\",i[0])\n",
    "    if(x==''):\n",
    "        x=i[0]\n",
    "        y=i[1][:-1]\n",
    "    else:\n",
    "        x = x+' '+i[0]\n",
    "        y = y +' '+i[1][:-1]"
   ]
  },
  {
   "cell_type": "code",
   "execution_count": 24,
   "id": "c7b75595",
   "metadata": {},
   "outputs": [],
   "source": [
    "df = pd.DataFrame({'Sentence':keys,'Tag':values})"
   ]
  },
  {
   "cell_type": "code",
   "execution_count": 25,
   "id": "44964c23",
   "metadata": {},
   "outputs": [],
   "source": [
    "df.to_csv(\"NER_Final.csv\",index = False)"
   ]
  },
  {
   "cell_type": "code",
   "execution_count": 26,
   "id": "8818aa3b",
   "metadata": {},
   "outputs": [
    {
     "data": {
      "text/html": [
       "<div>\n",
       "<style scoped>\n",
       "    .dataframe tbody tr th:only-of-type {\n",
       "        vertical-align: middle;\n",
       "    }\n",
       "\n",
       "    .dataframe tbody tr th {\n",
       "        vertical-align: top;\n",
       "    }\n",
       "\n",
       "    .dataframe thead th {\n",
       "        text-align: right;\n",
       "    }\n",
       "</style>\n",
       "<table border=\"1\" class=\"dataframe\">\n",
       "  <thead>\n",
       "    <tr style=\"text-align: right;\">\n",
       "      <th></th>\n",
       "      <th>Sentence</th>\n",
       "      <th>Tag</th>\n",
       "    </tr>\n",
       "  </thead>\n",
       "  <tbody>\n",
       "    <tr>\n",
       "      <th>0</th>\n",
       "      <td>जियोर्जियोन ०१९। जेपीजी | जियोर्जियोन आंधी  ८२...</td>\n",
       "      <td>O O O O O B-CW O O O O O</td>\n",
       "    </tr>\n",
       "    <tr>\n",
       "      <th>1</th>\n",
       "      <td>इस क्षेत्र का सबसे प्रसिद्ध व्यंजन बिरिया है ज...</td>\n",
       "      <td>O O O O O O B-PROD O O O O O O O O O O O O O O...</td>\n",
       "    </tr>\n",
       "    <tr>\n",
       "      <th>2</th>\n",
       "      <td>राजनीतिक टिप्पणीकार एंड्रयू सुलिवन ने माना कि ...</td>\n",
       "      <td>O O B-PER I-PER O O O O O O O O O O O O</td>\n",
       "    </tr>\n",
       "    <tr>\n",
       "      <th>3</th>\n",
       "      <td>लाइटिंग सर्किट से उपकरणों को जोड़ने के लिए एक ...</td>\n",
       "      <td>O O O O O O O O O O O O O O O B-PROD I-PROD O ...</td>\n",
       "    </tr>\n",
       "    <tr>\n",
       "      <th>4</th>\n",
       "      <td>तब से उन्हें तीन बार स्थानांतरित किया गया है औ...</td>\n",
       "      <td>O O O O O O O O O O O O O O O B-LOC O O O</td>\n",
       "    </tr>\n",
       "    <tr>\n",
       "      <th>...</th>\n",
       "      <td>...</td>\n",
       "      <td>...</td>\n",
       "    </tr>\n",
       "    <tr>\n",
       "      <th>15295</th>\n",
       "      <td>चाओ फ्रया नदी मेक्सिको</td>\n",
       "      <td>B-LOC I-LOC I-LOC O</td>\n",
       "    </tr>\n",
       "    <tr>\n",
       "      <th>15296</th>\n",
       "      <td>चाय बोर्ड भारत संगठन</td>\n",
       "      <td>B-GRP I-GRP I-GRP O</td>\n",
       "    </tr>\n",
       "    <tr>\n",
       "      <th>15297</th>\n",
       "      <td>कंप्यूटर अंकुरण</td>\n",
       "      <td>O B-PROD</td>\n",
       "    </tr>\n",
       "    <tr>\n",
       "      <th>15298</th>\n",
       "      <td>एयर इंडिया रीजनल . की समीक्षाएं</td>\n",
       "      <td>B-CORP I-CORP I-CORP O O O</td>\n",
       "    </tr>\n",
       "    <tr>\n",
       "      <th>15299</th>\n",
       "      <td>क्वालकॉम स्नैपड्रैगन . के उदाहरण</td>\n",
       "      <td>B-PROD I-PROD O O O</td>\n",
       "    </tr>\n",
       "  </tbody>\n",
       "</table>\n",
       "<p>15300 rows × 2 columns</p>\n",
       "</div>"
      ],
      "text/plain": [
       "                                                Sentence  \\\n",
       "0      जियोर्जियोन ०१९। जेपीजी | जियोर्जियोन आंधी  ८२...   \n",
       "1      इस क्षेत्र का सबसे प्रसिद्ध व्यंजन बिरिया है ज...   \n",
       "2      राजनीतिक टिप्पणीकार एंड्रयू सुलिवन ने माना कि ...   \n",
       "3      लाइटिंग सर्किट से उपकरणों को जोड़ने के लिए एक ...   \n",
       "4      तब से उन्हें तीन बार स्थानांतरित किया गया है औ...   \n",
       "...                                                  ...   \n",
       "15295                             चाओ फ्रया नदी मेक्सिको   \n",
       "15296                               चाय बोर्ड भारत संगठन   \n",
       "15297                                    कंप्यूटर अंकुरण   \n",
       "15298                    एयर इंडिया रीजनल . की समीक्षाएं   \n",
       "15299                   क्वालकॉम स्नैपड्रैगन . के उदाहरण   \n",
       "\n",
       "                                                     Tag  \n",
       "0                               O O O O O B-CW O O O O O  \n",
       "1      O O O O O O B-PROD O O O O O O O O O O O O O O...  \n",
       "2                O O B-PER I-PER O O O O O O O O O O O O  \n",
       "3      O O O O O O O O O O O O O O O B-PROD I-PROD O ...  \n",
       "4              O O O O O O O O O O O O O O O B-LOC O O O  \n",
       "...                                                  ...  \n",
       "15295                                B-LOC I-LOC I-LOC O  \n",
       "15296                                B-GRP I-GRP I-GRP O  \n",
       "15297                                           O B-PROD  \n",
       "15298                         B-CORP I-CORP I-CORP O O O  \n",
       "15299                                B-PROD I-PROD O O O  \n",
       "\n",
       "[15300 rows x 2 columns]"
      ]
     },
     "execution_count": 26,
     "metadata": {},
     "output_type": "execute_result"
    }
   ],
   "source": [
    "df"
   ]
  },
  {
   "cell_type": "code",
   "execution_count": null,
   "id": "280a27ad",
   "metadata": {},
   "outputs": [],
   "source": []
  }
 ],
 "metadata": {
  "kernelspec": {
   "display_name": "Python 3",
   "language": "python",
   "name": "python3"
  },
  "language_info": {
   "codemirror_mode": {
    "name": "ipython",
    "version": 3
   },
   "file_extension": ".py",
   "mimetype": "text/x-python",
   "name": "python",
   "nbconvert_exporter": "python",
   "pygments_lexer": "ipython3",
   "version": "3.8.8"
  }
 },
 "nbformat": 4,
 "nbformat_minor": 5
}
