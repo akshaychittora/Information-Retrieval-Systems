{
 "cells": [
  {
   "cell_type": "code",
   "execution_count": 1,
   "id": "c8536dfd",
   "metadata": {},
   "outputs": [],
   "source": [
    "from gensim.models import FastText\n",
    "from indic_transliteration import sanscript\n",
    "from indic_transliteration.sanscript import transliterate\n",
    "import numpy as np\n",
    "import pandas as pd\n",
    "from numpy.linalg import norm\n",
    "from gensim.models import Word2Vec"
   ]
  },
  {
   "cell_type": "code",
   "execution_count": 2,
   "id": "15031f5f",
   "metadata": {},
   "outputs": [],
   "source": [
    "path = 'hi/50'\n",
    "\n",
    "\n"
   ]
  },
  {
   "cell_type": "code",
   "execution_count": null,
   "id": "a5b69ec4",
   "metadata": {},
   "outputs": [],
   "source": []
  },
  {
   "cell_type": "code",
   "execution_count": 3,
   "id": "b6ab68d2",
   "metadata": {},
   "outputs": [],
   "source": [
    "cbow = Word2Vec.load(path+\"/cbow/hi-d50-m2-cbow.model\",\"r\")\n"
   ]
  },
  {
   "cell_type": "code",
   "execution_count": 5,
   "id": "4ab4c7b7",
   "metadata": {},
   "outputs": [],
   "source": [
    "f1=pd.read_csv('Word similarity/hindi.txt',sep=',')\n",
    "words=f1[['C1','C2']].values\n",
    "ans=f1['Truth'].values"
   ]
  },
  {
   "cell_type": "code",
   "execution_count": 6,
   "id": "e25cf78e",
   "metadata": {},
   "outputs": [],
   "source": [
    "cbow_vec=[]\n",
    "for i in words:\n",
    "    cbow_vec.append((np.array(cbow.wv[i[0]]).dot(np.array(cbow.wv[i[1]])))/(norm(cbow.wv[i[0]])*norm(cbow.wv[i[1]])))\n",
    "    "
   ]
  },
  {
   "cell_type": "code",
   "execution_count": 8,
   "id": "d895fac4",
   "metadata": {},
   "outputs": [],
   "source": [
    "sg = Word2Vec.load(path+\"/sg/hi-d50-m2-sg.model\",\"r\")\n",
    "sg_vec=[]\n",
    "for i in words:\n",
    "    sg_vec.append((np.array(sg.wv[i[0]]).dot(np.array(sg.wv[i[1]])))/(norm(sg.wv[i[0]])*norm(sg.wv[i[1]])))"
   ]
  },
  {
   "cell_type": "code",
   "execution_count": 10,
   "id": "f1fdfda6",
   "metadata": {},
   "outputs": [],
   "source": [
    "fasttest = FastText.load(path+\"/fasttext/hi-d50-m2-fasttext.model\",\"r\")\n",
    "fasttest_vec=[]\n",
    "for i in words:\n",
    "    fasttest_vec.append((np.array(fasttest.wv[i[0]]).dot(np.array(fasttest.wv[i[1]])))/(norm(fasttest.wv[i[0]])*norm(fasttest.wv[i[1]])))"
   ]
  },
  {
   "cell_type": "code",
   "execution_count": null,
   "id": "4a904d85",
   "metadata": {},
   "outputs": [],
   "source": [
    "glove=open(path+\"/glove/hi-d50-glove.txt\",\"r\",encoding='utf-8',errors = \"ignore\")\n",
    "glove_dict={}\n",
    "for i in glove:\n",
    "    i= i.split(\" \")\n",
    "    vec = list(map(float,i[1:]))\n",
    "    glove_dict[i[0]]= vec\n"
   ]
  },
  {
   "cell_type": "code",
   "execution_count": null,
   "id": "f1171f02",
   "metadata": {},
   "outputs": [],
   "source": [
    "glove_vec=[]    \n",
    "for i in words:\n",
    "    glove_vec.append((np.array(glove_dict[i[0]]).dot(np.array(glove_dict[i[1]])))/(norm(glove_dict[i[0]])*norm(glove_dict[i[1]])))\n"
   ]
  },
  {
   "cell_type": "code",
   "execution_count": 15,
   "id": "d5dc9c8b",
   "metadata": {},
   "outputs": [],
   "source": [
    "def chk_accuracy(v1,v2,threshold):\n",
    "    #t(dfdrsfe\n",
    "    result=[]\n",
    "    for i in range(len(v1)):\n",
    "        if((v1[i] >= threshold and v2[i] >= threshold) or (v1[i] <threshold and v2[i] < threshold)):\n",
    "            result.append(1)\n",
    "        else:\n",
    "            result.append(0)\n",
    "    \n",
    "    return result\n"
   ]
  },
  {
   "cell_type": "code",
   "execution_count": 19,
   "id": "ce6ef5f7",
   "metadata": {},
   "outputs": [
    {
     "name": "stdout",
     "output_type": "stream",
     "text": [
      "ERROR! Session/line number was not unique in database. History logging moved to new session 182\n"
     ]
    }
   ],
   "source": [
    "thresholds=[0.4,0.5,0.6,0.7,0.8,0.9]\n",
    "\n",
    "## cbow vector\n",
    "\n",
    "\n",
    "\n",
    "for t in thresholds:\n",
    "    cbow_vec_out = chk_accuracy(ans,cbow_vec,t)\n",
    "    temp={'word1':[w[0] for w in words],'word2': [w[1] for w in words],'Similarity Score': cbow_vec, 'Ground Truth similarity score': ans,'Label':cbow_vec_out}\n",
    "    df= pd.DataFrame(temp)\n",
    "    file= 'Q1_50_CBow_similarity_'+str(t)+'.csv'\n",
    "    df.to_csv(file,encoding='utf8')\n",
    "    "
   ]
  },
  {
   "cell_type": "code",
   "execution_count": 20,
   "id": "6d8cfef0",
   "metadata": {},
   "outputs": [],
   "source": [
    "## sg_vec vector\n",
    "for t in thresholds:\n",
    "    \n",
    "    sg_vec_out = chk_accuracy(ans,sg_vec,t)\n",
    "    temp={'word1':[w[0] for w in words],'word2': [w[1] for w in words],'Similarity Score': sg_vec, 'Ground Truth similarity score': ans,'Label':sg_vec_out}\n",
    "    df= pd.DataFrame(temp)\n",
    "    file= 'Q1_50_SG_similarity_'+str(t)+'.csv'\n",
    "    df.to_csv(file,encoding='utf8')"
   ]
  },
  {
   "cell_type": "code",
   "execution_count": 21,
   "id": "950f347d",
   "metadata": {},
   "outputs": [],
   "source": [
    "## fatstest_vec vector\n",
    "for t in thresholds:\n",
    "    fasttest_vec_out=chk_accuracy(ans,fasttest_vec,t)\n",
    "    temp={'word1':[w[0] for w in words],'word2': [w[1] for w in words],'Similarity Score': fasttest_vec, 'Ground Truth similarity score': ans,'Label':fasttest_vec_out}\n",
    "    df= pd.DataFrame(temp)\n",
    "    file= 'Q1_50_FastText_similarity_'+str(t)+'.csv'\n",
    "    df.to_csv(file,encoding='utf8')"
   ]
  },
  {
   "cell_type": "code",
   "execution_count": 96,
   "id": "2e75d5ce",
   "metadata": {},
   "outputs": [
    {
     "name": "stdout",
     "output_type": "stream",
     "text": [
      "0.4   0.676923076923077\n",
      "0.5   0.6307692307692307\n",
      "0.6   0.49230769230769234\n",
      "0.7   0.36923076923076925\n",
      "0.8   0.3230769230769231\n",
      "0.9   0.3230769230769231\n"
     ]
    }
   ],
   "source": [
    "## glove vector\n",
    "for t in thresholds:\n",
    "    glove_vec_out= chk_accuracy(ans,glove_vec,t)\n",
    "    temp={'word1':[w[0] for w in words],'word2': [w[1] for w in words],'Similarity Score': glove_vec, 'Ground Truth similarity score': ans,'Label':glove_vec_out}\n",
    "    df= pd.DataFrame(temp)\n",
    "    file= 'Q1_50_Glove_similarity_'+str(t)+'csv'\n",
    "    df.to_csv(file,encoding='utf8')"
   ]
  },
  {
   "cell_type": "code",
   "execution_count": null,
   "id": "a3da39f1",
   "metadata": {},
   "outputs": [],
   "source": []
  },
  {
   "cell_type": "code",
   "execution_count": null,
   "id": "850c5323",
   "metadata": {},
   "outputs": [],
   "source": []
  }
 ],
 "metadata": {
  "kernelspec": {
   "display_name": "Python 3",
   "language": "python",
   "name": "python3"
  },
  "language_info": {
   "codemirror_mode": {
    "name": "ipython",
    "version": 3
   },
   "file_extension": ".py",
   "mimetype": "text/x-python",
   "name": "python",
   "nbconvert_exporter": "python",
   "pygments_lexer": "ipython3",
   "version": "3.8.8"
  }
 },
 "nbformat": 4,
 "nbformat_minor": 5
}
